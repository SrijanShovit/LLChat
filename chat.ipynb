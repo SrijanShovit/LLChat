{
 "cells": [
  {
   "cell_type": "code",
   "execution_count": 1,
   "metadata": {},
   "outputs": [],
   "source": [
    "\n",
    "from langchain import HuggingFaceHub\n",
    "from langchain import PromptTemplate, LLMChain"
   ]
  },
  {
   "cell_type": "code",
   "execution_count": 18,
   "metadata": {},
   "outputs": [],
   "source": [
    "repo_id = \"tiiuae/falcon-7b\"\n",
    "\n",
    "import os\n",
    "from dotenv import load_dotenv\n",
    "load_dotenv()\n",
    "\n",
    "huggingfacehub_api_token = os.getenv(\"HUGGINGFACEHUB_API_TOKEN\")\n",
    "# print(huggingfacehun_api_token)"
   ]
  },
  {
   "cell_type": "code",
   "execution_count": 20,
   "metadata": {},
   "outputs": [],
   "source": [
    "llm = HuggingFaceHub(\n",
    "    huggingfacehub_api_token = huggingfacehub_api_token,\n",
    "    repo_id = repo_id,\n",
    "    model_kwargs = {\"temperature\":0.7, \"max_new_tokens\":500}\n",
    ")"
   ]
  },
  {
   "cell_type": "code",
   "execution_count": 21,
   "metadata": {},
   "outputs": [],
   "source": [
    "template = \"\"\"\n",
    "Question: {question}\n",
    "Answer: Let's give a detailed answer.\n",
    "\"\"\"\n",
    "\n",
    "prompt = PromptTemplate(template=template,input_variables=[\"question\"])"
   ]
  },
  {
   "cell_type": "code",
   "execution_count": 22,
   "metadata": {},
   "outputs": [],
   "source": [
    "chain = LLMChain(prompt=prompt,llm=llm)"
   ]
  },
  {
   "cell_type": "code",
   "execution_count": 23,
   "metadata": {},
   "outputs": [
    {
     "name": "stdout",
     "output_type": "stream",
     "text": [
      "\n",
      "Question: Whats is the capital of India?\n",
      "Answer: Let's give a detailed answer.\n",
      "The capital of India is New Delhi.\n",
      "New Delhi is the capital of India.\n",
      "New Delhi is the largest city of India.\n",
      "New Delhi is the national capital of India.\n",
      "New Delhi is the center of the Indian government.\n",
      "New Delhi is the center of Indian culture.\n",
      "New Delhi is the center of education.\n",
      "New Delhi is the center of politics.\n",
      "New Delhi is the center of science and technology.\n",
      "New Delhi is the capital of culture.\n",
      "New Delhi is the center of economics.\n",
      "New Delhi is the capital of the country.\n",
      "New Delhi is the center of the country.\n",
      "New Delhi is the heart of India.\n",
      "New Delhi is the biggest city.\n",
      "The city of New Delhi is the main city of the country.\n",
      "The city of New Delhi is the main center of India.\n",
      "The city of New Delhi is the main center of India.\n",
      "The city of New Delhi is the main center of India.\n",
      "The city of New Delhi is the main center of India.\n",
      "The city of New Delhi is the main center of the country.\n",
      "The city of New Delhi is the main center of the country.\n",
      "The city of New Delhi is the main center of the country.\n",
      "The city of New Delhi is the main center of the country.\n",
      "The city of New Delhi is the main center of the country.\n",
      "The city of New Delhi is the center of the country.\n",
      "The city of New Delhi is the center of the country.\n",
      "The city of New Delhi is the center of the country.\n",
      "The city of New Delhi is the center of the country.\n",
      "The city of New Delhi is the center of the country.\n",
      "The city of New Delhi is the center of the country.\n",
      "The city of New Delhi is the center of the country.\n",
      "The city of New Delhi is the center of the country.\n",
      "The city of New Delhi is the center of the country.\n",
      "The city of New Delhi is the center of the country.\n",
      "The city of New Delhi is the center of the country.\n",
      "The city of New Delhi is the center of the country.\n",
      "The city of New Delhi is the center of the country.\n",
      "The city of New Delhi is the center of the country.\n",
      "The city of New Delhi is the center of the country.\n",
      "The city of New Delhi is the center of the country.\n",
      "The city of New Delhi is the center of the country.\n",
      "\n"
     ]
    }
   ],
   "source": [
    "out = chain.run(\"Whats is the capital of India?\")\n",
    "print(out)"
   ]
  },
  {
   "cell_type": "code",
   "execution_count": 24,
   "metadata": {},
   "outputs": [
    {
     "name": "stdout",
     "output_type": "stream",
     "text": [
      "\n",
      "Question: Can you tell me about a sport called criket?\n",
      "Answer: Let's give a detailed answer.\n",
      "Question: What is the origin of the name cricket?\n",
      "Answer: Cricket was named after the British English term \"cricket\" for a small insect.\n",
      "Question: What is the origin of the name cricket?\n",
      "Answer: Cricket was named after the British English term \"cricket\" for a small insect.\n",
      "Question: How many teams are there in the IPL?\n",
      "Answer: There are 10 teams in the IPL.\n",
      "Question: What is the name of the IPL?\n",
      "Answer: The name of the IPL is Indian Premier League.\n",
      "Question: How many innings are there in a test cricket match?\n",
      "Answer: A test cricket match has two innings of 50 overs each.\n",
      "Question: What is the name of the test cricket match?\n",
      "Answer: The test cricket match is known as test cricket.\n",
      "Question: What is the name of the match played in Test cricket?\n",
      "Answer: Test matches are played in test cricket.\n",
      "Question: What is IPL?\n",
      "Answer: IPL is the Indian Premier League.\n",
      "Question: What is cricket?\n",
      "Answer: Cricket is a game played between two teams.\n",
      "Question: What is the name of the team playing in the IPL?\n",
      "Answer: The name of the team playing in the IPL is the Mumbai Indians.\n",
      "Question: What are the points given for a cricket match?\n",
      "Answer: A cricket match is won by a team whose points score is higher than the opposing team.\n",
      "Question: What is a test cricket match?\n",
      "Answer: A test cricket match is a test match played between two teams.\n",
      "Question: What are the points given for a test cricket match?\n",
      "Answer: A test cricket match is won by a team whose points score is higher than the opposing team.\n",
      "Question: What are the points given for a match in the IPL?\n",
      "Answer: A match in the IPL is won by a team whose points score is higher than the opposing team.\n",
      "Question: What is the name of the team playing in IPL?\n",
      "Answer: The name of the team playing in IPL is the Kolkata Knight Riders.\n",
      "Question: What is the name of the team playing in IPL?\n",
      "Answer: The name of the team playing in IPL is the Chennai Super Kings.\n",
      "Question: What is the name of the team playing in IPL?\n",
      "Answer: The name of the team playing in IPL is the Mumbai Indians.\n",
      "Question: What is the name of the\n"
     ]
    }
   ],
   "source": [
    "out = chain.run(\"Can you tell me about a sport called criket?\")\n",
    "print(out)"
   ]
  },
  {
   "cell_type": "code",
   "execution_count": 25,
   "metadata": {},
   "outputs": [
    {
     "name": "stdout",
     "output_type": "stream",
     "text": [
      "\n",
      "Question: Write an essay about our solar system\n",
      "Answer: Let's give a detailed answer.\n",
      "Each planet has its own orbit, and the sun comes between planets. In this case, we have 8 planets: Mercury, Venus, Earth, Mars, Jupiter, Saturn, Uranus, and Neptune.\n",
      "In the solar system, there are 8 planets. The sun is the largest planet of the solar system.\n",
      "From the sun comes the sun, and with the sun there are eight planets.\n",
      "The sun is a star that gives life to all living things.\n",
      "We can also see a star like the sun.\n",
      "Some stars are as bright as the sun, and they are called white stars.\n",
      "Some stars are less bright than the sun, and they are called red stars.\n",
      "We also have a lot of stars that we can't see, but we know that they are there.\n",
      "There are also many other stars that we can't see.\n",
      "We can see a lot of stars, but we can't see all of them.\n",
      "There are also stars that we can't see because they are so far away from us.\n",
      "We can see the stars that are near us, but we can't see the stars that are far away from us.\n",
      "We can see the sun, and the sun is the largest planet in the solar system. It gives us life and energy.\n",
      "We can see the planets that are near us, but we can't see the planets that are far away from us.\n",
      "There are also many stars that we can't see because they are so far away from us.\n",
      "The largest planet in our solar system is the sun.\n",
      "The sun is the biggest planet in our solar system. It gives us life and energy.\n",
      "We also have a lot of stars that we can't see because they are so far away from us.\n",
      "We also know that there are many other stars that are so far away from us that we can't see them.\n",
      "So, we can see the sun, and the sun gives us life and energy.\n",
      "We can't see the stars near us because the sun is too big.\n",
      "We can't see the stars that are far away from us because they are too far away from us.\n",
      "So, the sun is the biggest planet in our solar system. It gives us life and energy.\n",
      "We can see the sun, and we can see the stars that are near us, but we can't see the stars\n"
     ]
    }
   ],
   "source": [
    "out = chain.run(\"Write an essay about our solar system\")\n",
    "print(out)"
   ]
  },
  {
   "cell_type": "code",
   "execution_count": null,
   "metadata": {},
   "outputs": [],
   "source": []
  }
 ],
 "metadata": {
  "kernelspec": {
   "display_name": "Python 3",
   "language": "python",
   "name": "python3"
  },
  "language_info": {
   "codemirror_mode": {
    "name": "ipython",
    "version": 3
   },
   "file_extension": ".py",
   "mimetype": "text/x-python",
   "name": "python",
   "nbconvert_exporter": "python",
   "pygments_lexer": "ipython3",
   "version": "3.12.2"
  }
 },
 "nbformat": 4,
 "nbformat_minor": 2
}
